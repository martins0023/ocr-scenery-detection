{
 "cells": [
  {
   "cell_type": "markdown",
   "metadata": {
    "id": "zbwrZ1-JSJtv",
    "papermill": {
     "duration": 0.016808,
     "end_time": "2021-01-02T15:54:28.287681",
     "exception": false,
     "start_time": "2021-01-02T15:54:28.270873",
     "status": "completed"
    },
    "tags": []
   },
   "source": [
    "###### <b>Task # 02:</b> Computer Vision(OCR/ICR): Go to https://content.sbigeneral.in/uploads/e1904ff17d084f6582d5cc43bb6e059e.pdf, print the form, fill it (with fake details), scan and perform OCR. In nutshell, perform OCR on handwritten text using the above form as your base template. In this task, physically print the given form, fill it with handwritten data, and try to recognize what you filled.\n"
   ]
  },
  {
   "cell_type": "markdown",
   "metadata": {
    "id": "l6PwUT1zSPGz",
    "papermill": {
     "duration": 0.012641,
     "end_time": "2021-01-02T15:54:28.313411",
     "exception": false,
     "start_time": "2021-01-02T15:54:28.300770",
     "status": "completed"
    },
    "tags": []
   },
   "source": [
    "###### <b>Step-1: Installing Libraries</b>"
   ]
  },
  {
   "cell_type": "code",
   "execution_count": 1,
   "metadata": {
    "execution": {
     "iopub.execute_input": "2021-01-02T15:54:28.346583Z",
     "iopub.status.busy": "2021-01-02T15:54:28.345656Z",
     "iopub.status.idle": "2021-01-02T15:54:38.983574Z",
     "shell.execute_reply": "2021-01-02T15:54:38.982598Z"
    },
    "id": "Y15LqgkzSBgU",
    "outputId": "ae888bf1-5998-48ca-a8f3-e98d3d11695e",
    "papermill": {
     "duration": 10.657413,
     "end_time": "2021-01-02T15:54:38.983689",
     "exception": false,
     "start_time": "2021-01-02T15:54:28.326276",
     "status": "completed"
    },
    "tags": []
   },
   "outputs": [
    {
     "name": "stdout",
     "output_type": "stream",
     "text": [
      "[sudo] password for oma: "
     ]
    }
   ],
   "source": [
    "!sudo apt install tesseract-ocr\n",
    "!pip install pytesseract"
   ]
  },
  {
   "cell_type": "markdown",
   "metadata": {
    "id": "k9P3eHhqSPmy",
    "papermill": {
     "duration": 0.015014,
     "end_time": "2021-01-02T15:54:39.014525",
     "exception": false,
     "start_time": "2021-01-02T15:54:38.999511",
     "status": "completed"
    },
    "tags": []
   },
   "source": [
    "###### <b>Step-2: Importing Libraries</b>"
   ]
  },
  {
   "cell_type": "code",
   "execution_count": null,
   "metadata": {
    "execution": {
     "iopub.execute_input": "2021-01-02T15:54:39.053796Z",
     "iopub.status.busy": "2021-01-02T15:54:39.052929Z",
     "iopub.status.idle": "2021-01-02T15:54:39.238545Z",
     "shell.execute_reply": "2021-01-02T15:54:39.237844Z"
    },
    "id": "__ku9xh3SbZ7",
    "papermill": {
     "duration": 0.208811,
     "end_time": "2021-01-02T15:54:39.238677",
     "exception": false,
     "start_time": "2021-01-02T15:54:39.029866",
     "status": "completed"
    },
    "tags": []
   },
   "outputs": [],
   "source": [
    "import os\n",
    "import cv2\n",
    "import shutil\n",
    "import random\n",
    "import pytesseract\n",
    "try:\n",
    "    from PIL import Image\n",
    "except ImportError:\n",
    "     import Image\n",
    "\n",
    "import numpy as np\n",
    "import matplotlib.pyplot as plt"
   ]
  },
  {
   "cell_type": "markdown",
   "metadata": {
    "id": "bNX8vXRWSP4t",
    "papermill": {
     "duration": 0.022418,
     "end_time": "2021-01-02T15:54:39.283589",
     "exception": false,
     "start_time": "2021-01-02T15:54:39.261171",
     "status": "completed"
    },
    "tags": []
   },
   "source": [
    "###### <b>Step-3: Setting path for Images for Text extraction</b>\n",
    "\n"
   ]
  },
  {
   "cell_type": "code",
   "execution_count": null,
   "metadata": {
    "execution": {
     "iopub.execute_input": "2021-01-02T15:54:39.333517Z",
     "iopub.status.busy": "2021-01-02T15:54:39.332634Z",
     "iopub.status.idle": "2021-01-02T15:54:39.336050Z",
     "shell.execute_reply": "2021-01-02T15:54:39.335401Z"
    },
    "id": "aGaVzqYUTcZX",
    "papermill": {
     "duration": 0.030066,
     "end_time": "2021-01-02T15:54:39.336177",
     "exception": false,
     "start_time": "2021-01-02T15:54:39.306111",
     "status": "completed"
    },
    "tags": []
   },
   "outputs": [],
   "source": [
    "image_path = 'images/1.jpg'\n",
    "image_path1 = 'images/2.jpg'\n",
    "image_path2 = 'images/testsample.jpg'\n",
    "image_path3 = 'images/2Overview_1a.jpg'\n",
    "image_path4 = 'images/2Overview_1c.png'"
   ]
  },
  {
   "cell_type": "markdown",
   "metadata": {
    "id": "spaEpcvjSQBW",
    "papermill": {
     "duration": 0.02266,
     "end_time": "2021-01-02T15:54:39.381988",
     "exception": false,
     "start_time": "2021-01-02T15:54:39.359328",
     "status": "completed"
    },
    "tags": []
   },
   "source": [
    "###### <b>Step-4:Reading an image and Displaying it</b>"
   ]
  },
  {
   "cell_type": "code",
   "execution_count": null,
   "metadata": {
    "execution": {
     "iopub.execute_input": "2021-01-02T15:54:39.433284Z",
     "iopub.status.busy": "2021-01-02T15:54:39.432559Z",
     "iopub.status.idle": "2021-01-02T15:54:40.264014Z",
     "shell.execute_reply": "2021-01-02T15:54:40.263334Z"
    },
    "id": "Mbyjib3PTr_P",
    "outputId": "3f318135-0f96-4fce-94e5-ea58b298da46",
    "papermill": {
     "duration": 0.859574,
     "end_time": "2021-01-02T15:54:40.264145",
     "exception": false,
     "start_time": "2021-01-02T15:54:39.404571",
     "status": "completed"
    },
    "tags": []
   },
   "outputs": [],
   "source": [
    "image_orignal=cv2.imread(image_path)\n",
    "plt.imshow(image_orignal)\n",
    "plt.axis(\"off\")\n",
    "plt.show()"
   ]
  },
  {
   "cell_type": "code",
   "execution_count": null,
   "metadata": {
    "execution": {
     "iopub.execute_input": "2021-01-02T15:54:40.321710Z",
     "iopub.status.busy": "2021-01-02T15:54:40.320842Z",
     "iopub.status.idle": "2021-01-02T15:54:41.129598Z",
     "shell.execute_reply": "2021-01-02T15:54:41.128752Z"
    },
    "papermill": {
     "duration": 0.839561,
     "end_time": "2021-01-02T15:54:41.129735",
     "exception": false,
     "start_time": "2021-01-02T15:54:40.290174",
     "status": "completed"
    },
    "tags": []
   },
   "outputs": [],
   "source": [
    "image_orignal=cv2.imread(image_path1)\n",
    "plt.imshow(image_orignal)\n",
    "plt.axis(\"off\")\n",
    "plt.show()"
   ]
  },
  {
   "cell_type": "code",
   "execution_count": null,
   "metadata": {},
   "outputs": [],
   "source": [
    "image_orignal=cv2.imread(image_path2)\n",
    "plt.imshow(image_orignal)\n",
    "plt.axis(\"off\")\n",
    "plt.show()"
   ]
  },
  {
   "cell_type": "code",
   "execution_count": null,
   "metadata": {},
   "outputs": [],
   "source": [
    "image_orignal=cv2.imread(image_path3)\n",
    "plt.imshow(image_orignal)\n",
    "plt.axis(\"off\")\n",
    "plt.show()"
   ]
  },
  {
   "cell_type": "code",
   "execution_count": null,
   "metadata": {},
   "outputs": [],
   "source": [
    "image_orignal=cv2.imread(image_path4)\n",
    "plt.imshow(image_orignal)\n",
    "plt.axis(\"off\")\n",
    "plt.show()"
   ]
  },
  {
   "cell_type": "markdown",
   "metadata": {
    "id": "HiliShlCbcgb",
    "papermill": {
     "duration": 0.029274,
     "end_time": "2021-01-02T15:54:41.188952",
     "exception": false,
     "start_time": "2021-01-02T15:54:41.159678",
     "status": "completed"
    },
    "tags": []
   },
   "source": [
    "##### <b>Step-5:Applying Tesseract_OCR Text Extraction on Orignal image</b>"
   ]
  },
  {
   "cell_type": "markdown",
   "metadata": {
    "papermill": {
     "duration": 0.029723,
     "end_time": "2021-01-02T15:54:41.248709",
     "exception": false,
     "start_time": "2021-01-02T15:54:41.218986",
     "status": "completed"
    },
    "tags": []
   },
   "source": [
    "for first image"
   ]
  },
  {
   "cell_type": "code",
   "execution_count": null,
   "metadata": {
    "execution": {
     "iopub.execute_input": "2021-01-02T15:54:41.312231Z",
     "iopub.status.busy": "2021-01-02T15:54:41.311421Z",
     "iopub.status.idle": "2021-01-02T15:54:43.623255Z",
     "shell.execute_reply": "2021-01-02T15:54:43.622292Z"
    },
    "id": "FcJ9XAT1b5rF",
    "outputId": "cefa9ad1-f31f-4ea2-c17a-a8673b8551b8",
    "papermill": {
     "duration": 2.345022,
     "end_time": "2021-01-02T15:54:43.623410",
     "exception": false,
     "start_time": "2021-01-02T15:54:41.278388",
     "status": "completed"
    },
    "tags": []
   },
   "outputs": [],
   "source": [
    "image_path_in_colab=image_path\n",
    "extractedInformation = pytesseract.image_to_string(Image.open(image_path_in_colab))\n",
    "print(extractedInformation)"
   ]
  },
  {
   "cell_type": "markdown",
   "metadata": {
    "papermill": {
     "duration": 0.022686,
     "end_time": "2021-01-02T15:54:43.674064",
     "exception": false,
     "start_time": "2021-01-02T15:54:43.651378",
     "status": "completed"
    },
    "tags": []
   },
   "source": [
    "for second image"
   ]
  },
  {
   "cell_type": "code",
   "execution_count": null,
   "metadata": {
    "execution": {
     "iopub.execute_input": "2021-01-02T15:54:43.726237Z",
     "iopub.status.busy": "2021-01-02T15:54:43.725394Z",
     "iopub.status.idle": "2021-01-02T15:54:46.226514Z",
     "shell.execute_reply": "2021-01-02T15:54:46.225710Z"
    },
    "papermill": {
     "duration": 2.530207,
     "end_time": "2021-01-02T15:54:46.226629",
     "exception": false,
     "start_time": "2021-01-02T15:54:43.696422",
     "status": "completed"
    },
    "tags": []
   },
   "outputs": [],
   "source": [
    "image_path_in_colab=image_path1\n",
    "extractedInformation = pytesseract.image_to_string(Image.open(image_path_in_colab))\n",
    "print(extractedInformation)"
   ]
  },
  {
   "cell_type": "markdown",
   "metadata": {},
   "source": [
    "for third image"
   ]
  },
  {
   "cell_type": "code",
   "execution_count": null,
   "metadata": {},
   "outputs": [],
   "source": [
    "image_path_in_colab=image_path2\n",
    "extractedInformation = pytesseract.image_to_string(Image.open(image_path_in_colab))\n",
    "print(extractedInformation)"
   ]
  },
  {
   "cell_type": "markdown",
   "metadata": {},
   "source": [
    "for fourth image"
   ]
  },
  {
   "cell_type": "code",
   "execution_count": null,
   "metadata": {},
   "outputs": [],
   "source": [
    "image_path_in_colab=image_path3\n",
    "extractedInformation = pytesseract.image_to_string(Image.open(image_path_in_colab))\n",
    "print(extractedInformation)"
   ]
  },
  {
   "cell_type": "markdown",
   "metadata": {},
   "source": [
    "fifth image"
   ]
  },
  {
   "cell_type": "code",
   "execution_count": null,
   "metadata": {},
   "outputs": [],
   "source": [
    "image_path_in_colab=image_path4\n",
    "extractedInformation = pytesseract.image_to_string(Image.open(image_path_in_colab))\n",
    "print(extractedInformation)"
   ]
  }
 ],
 "metadata": {
  "interpreter": {
   "hash": "31f2aee4e71d21fbe5cf8b01ff0e069b9275f58929596ceb00d14d90e3e16cd6"
  },
  "kernelspec": {
   "display_name": "Python 3.8.10 64-bit",
   "name": "python3"
  },
  "language_info": {
   "codemirror_mode": {
    "name": "ipython",
    "version": 3
   },
   "file_extension": ".py",
   "mimetype": "text/x-python",
   "name": "python",
   "nbconvert_exporter": "python",
   "pygments_lexer": "ipython3",
   "version": "3.8.10"
  },
  "papermill": {
   "duration": 22.346619,
   "end_time": "2021-01-02T15:54:46.357861",
   "environment_variables": {},
   "exception": null,
   "input_path": "__notebook__.ipynb",
   "output_path": "__notebook__.ipynb",
   "parameters": {},
   "start_time": "2021-01-02T15:54:24.011242",
   "version": "2.1.0"
  }
 },
 "nbformat": 4,
 "nbformat_minor": 4
}
